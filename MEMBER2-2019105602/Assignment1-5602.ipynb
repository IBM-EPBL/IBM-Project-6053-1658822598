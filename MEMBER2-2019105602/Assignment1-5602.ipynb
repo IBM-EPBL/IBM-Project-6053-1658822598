{
 "cells": [
  {
   "cell_type": "code",
   "execution_count": null,
   "id": "e35e75bb",
   "metadata": {},
   "outputs": [],
   "source": [
    "\n",
    "# Basic Python\n",
    "## 1. Split this string\n",
    "s = \"Hi there Sam!\"\n",
    "s.split()\n",
    "## 2. Use .format() to print the following string. \n",
    "\n",
    "### Output should be: The diameter of Earth is 12742 kilometers.\n",
    "planet = \"Earth\"\n",
    "diameter = 12742\n",
    "print('The diameter of {planet} is {diameter} kilometers.'.format(planet=planet,diameter=diameter))\n",
    "## 3. In this nest dictionary grab the word \"hello\"\n",
    "d = {'k1':[1,2,3,{'tricky':['oh','man','inception',{'target':[1,2,3,'hello']}]}]}\n",
    "d['k1'][3]['tricky'][3]['target'][3]\n",
    "# Numpy\n",
    "import numpy as np\n",
    "## 4.1 Create an array of 10 zeros? \n",
    "## 4.2 Create an array of 10 fives?\n",
    "np.zeros(10)\n",
    "5*np.ones(10)\n",
    "## 5. Create an array of all the even integers from 20 to 35\n",
    "a = []\n",
    "for i in range(20,35):\n",
    "  if(i%2==0):\n",
    "    a.append(i)\n",
    "a\n",
    "## 6. Create a 3x3 matrix with values ranging from 0 to 8\n",
    "a = [i for i in range(0,9)]\n",
    "np.random.choice(a, size=(3, 3))\n",
    "## 7. Concatenate a and b \n",
    "## a = np.array([1, 2, 3]), b = np.array([4, 5, 6])\n",
    "a = np.array([1, 2, 3])\n",
    "b = np.array([4, 5, 6])\n",
    "np.concatenate((a,b))\n",
    "# Pandas\n",
    "## 8. Create a dataframe with 3 rows and 2 columns\n",
    "import pandas as pd\n",
    "\n",
    "df = pd.DataFrame([[1, 'aaa'], [2, 'bbb'], [3, 'ccc']])\n",
    "df\n",
    "## 9. Generate the series of dates from 1st Jan, 2023 to 10th Feb, 2023\n",
    "pd.date_range(start ='1-1-2023', \n",
    "         end ='10-02-2023', freq ='1D')\n",
    "## 10. Create 2D list to DataFrame\n",
    "\n",
    "lists = [[1, 'aaa', 22],\n",
    "         [2, 'bbb', 25],\n",
    "         [3, 'ccc', 24]]\n",
    "lists = [[1, 'aaa', 22], [2, 'bbb', 25], [3, 'ccc', 24]]\n",
    "df = pd.DataFrame(lists)\n",
    "df\n"
   ]
  }
 ],
 "metadata": {
  "kernelspec": {
   "display_name": "Python 3 (ipykernel)",
   "language": "python",
   "name": "python3"
  },
  "language_info": {
   "codemirror_mode": {
    "name": "ipython",
    "version": 3
   },
   "file_extension": ".py",
   "mimetype": "text/x-python",
   "name": "python",
   "nbconvert_exporter": "python",
   "pygments_lexer": "ipython3",
   "version": "3.9.12"
  }
 },
 "nbformat": 4,
 "nbformat_minor": 5
}
